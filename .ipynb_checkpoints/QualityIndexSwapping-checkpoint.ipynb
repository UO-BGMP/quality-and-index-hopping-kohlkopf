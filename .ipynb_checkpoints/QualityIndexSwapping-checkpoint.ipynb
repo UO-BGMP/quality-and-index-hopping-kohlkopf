{
 "cells": [
  {
   "cell_type": "markdown",
   "metadata": {},
   "source": [
    "## Pete Notes"
   ]
  },
  {
   "cell_type": "markdown",
   "metadata": {},
   "source": [
    "+ 4 fastq files plus an index file on hpc\n",
    "+ part 1\n",
    "    + use old quality code\n",
    "        + specifically look at indexed reads?\n",
    "        + PS9\n",
    "+ part 2\n",
    "    + get files with 400 million reads\n",
    "        + all have different indices\n",
    "        + filter, then split by barcode\n",
    "    + read in indexes\n",
    "        + tab seperated\n",
    "        + make a dictionary with every possible combination as key, count as value\n",
    "    + count how may pairs against dictionary\n",
    "    + order matters\n",
    "    + mainly index 1 index 1\n",
    "        + swapping index 1 index 2\n",
    "    + watch out for .+ space 4:N:0:0\n",
    "        + identity is before\n",
    "        + at this point, still have index swapped reads\n",
    "            + not thrown out yet\n",
    "    + no index swapping, 24 output files\n",
    "        + new challenge\n",
    "        + don't write out each name use logic\n",
    "        + if dict key was index1_index2\n",
    "            + for each key in dict, open a file\n",
    "            + dict key is file suffix, value is list of four filehandles r0, r1, r2, r3\n",
    "                + four files per possible index pair\n",
    "                + four reads!\n",
    "    + four files:\n",
    "        + read 1, index 1 , index 2, read 2\n",
    "    + step through all files in tandem, throw out record if sequencing error??\n",
    "    "
   ]
  },
  {
   "cell_type": "markdown",
   "metadata": {
    "collapsed": true
   },
   "source": [
    "## Quality Score Distribution per-nucleotide"
   ]
  },
  {
   "cell_type": "code",
   "execution_count": null,
   "metadata": {
    "collapsed": true
   },
   "outputs": [],
   "source": []
  },
  {
   "cell_type": "markdown",
   "metadata": {},
   "source": []
  }
 ],
 "metadata": {
  "kernelspec": {
   "display_name": "Python 3",
   "language": "python",
   "name": "python3"
  },
  "language_info": {
   "codemirror_mode": {
    "name": "ipython",
    "version": 3
   },
   "file_extension": ".py",
   "mimetype": "text/x-python",
   "name": "python",
   "nbconvert_exporter": "python",
   "pygments_lexer": "ipython3",
   "version": "3.6.1"
  },
  "toc": {
   "colors": {
    "hover_highlight": "#DAA520",
    "navigate_num": "#000000",
    "navigate_text": "#333333",
    "running_highlight": "#FF0000",
    "selected_highlight": "#FFD700",
    "sidebar_border": "#EEEEEE",
    "wrapper_background": "#FFFFFF"
   },
   "moveMenuLeft": true,
   "nav_menu": {
    "height": "30px",
    "width": "252px"
   },
   "navigate_menu": true,
   "number_sections": true,
   "sideBar": true,
   "threshold": "3",
   "toc_cell": false,
   "toc_section_display": "block",
   "toc_window_display": false,
   "widenNotebook": false
  }
 },
 "nbformat": 4,
 "nbformat_minor": 2
}
