{
 "cells": [
  {
   "cell_type": "markdown",
   "metadata": {},
   "source": [
    "### todo"
   ]
  },
  {
   "cell_type": "markdown",
   "metadata": {},
   "source": [
    "+ change array size \n",
    "+ make in to function\n",
    "    + do it for all four files\n",
    "        "
   ]
  },
  {
   "cell_type": "markdown",
   "metadata": {},
   "source": [
    "### Pete Notes"
   ]
  },
  {
   "cell_type": "markdown",
   "metadata": {},
   "source": [
    "+ 4 fastq files plus an index file on hpc\n",
    "+ part 1\n",
    "    + use old quality code\n",
    "        + specifically look at indexed reads?\n",
    "        + PS9\n",
    "+ part 2\n",
    "    + get files with 400 million reads\n",
    "        + all have different indices\n",
    "        + filter, then split by barcode\n",
    "    + read in indexes\n",
    "        + tab seperated\n",
    "        + make a dictionary with every possible combination as key, count as value\n",
    "    + count how many pairs against dictionary\n",
    "    + order matters\n",
    "    + mainly index 1 index 1\n",
    "        + swapping index 1 index 2\n",
    "    + watch out for .+ space 4:N:0:0\n",
    "        + identity is before\n",
    "        + at this point, still have index swapped reads\n",
    "            + not thrown out yet\n",
    "    + no index swapping, 24 output files\n",
    "        + new challenge\n",
    "        + don't write out each name use logic\n",
    "        + if dict key was index1_index2\n",
    "            + for each key in dict, open a file\n",
    "            + dict key is file suffix, value is list of four filehandles r0, r1, r2, r3\n",
    "                + four files per possible index pair\n",
    "                + four reads!\n",
    "    + four files:\n",
    "        + read 1, index 1 , index 2, read 2\n",
    "    + step through all files in tandem, throw out record if sequencing error??\n",
    "    \n",
    "### updated assignment\n",
    "\n",
    "+ idea of quality\n",
    "+ do not generte a 2d matrix (101/4,000,000)\n",
    "    + running total\n",
    "+ for each file\n",
    "    + QS x bp position\n",
    "    + number reads x QS\n",
    "    + 8 totals plots\n",
    "+ 2| do not output all 48 files, table\n",
    "    + I1 vs I1 (I2 vs I2) that do exist, #\n",
    "        \n",
    "    + I1 vs I2 (I2 vs I3)\n",
    "+ use cutoff from previous code\n",
    "+ reverse complement! can just go through middle files, not sequence files.\n",
    "    \n",
    "        "
   ]
  },
  {
   "cell_type": "markdown",
   "metadata": {
    "collapsed": true
   },
   "source": [
    "## Quality Score Distribution per-nucleotide"
   ]
  },
  {
   "cell_type": "markdown",
   "metadata": {},
   "source": [
    "### Create test files "
   ]
  },
  {
   "cell_type": "raw",
   "metadata": {},
   "source": [
    "$ gzip -cd Undetermined_S0_R1_001_trunc.fastq.gz | head -40 > Brev/shortR1.fastq.gz"
   ]
  },
  {
   "cell_type": "markdown",
   "metadata": {},
   "source": [
    "### Get quality information"
   ]
  },
  {
   "cell_type": "code",
   "execution_count": 3,
   "metadata": {},
   "outputs": [
    {
     "data": {
      "text/plain": [
       "['AAAAAEEEEEEEEE#EEEEEEEEEE#E#EEEEE####E',\n",
       " 'AAAAAEEEEEEAEE#E/EEEEEEEE#E#EEEE/####E',\n",
       " 'AAAAAEEEEEEEEA#EEAEEEEEEE#/#EEAEE####E',\n",
       " 'AAAAAEEEEAEEEA#EEEEEEEEEE#E#EEE//####E',\n",
       " 'AAAAAE6//EAEAE#EEAEEEEEEA#/#EEEEE####E',\n",
       " 'AAAAAAEA/EE<6E#A/AA/EAE/E#E#EEEEE####A',\n",
       " '////A/////////#////A/////#E#/E//6####/',\n",
       " 'AAAAAEEEEEEEEE#EEEEEEEEEE#E#AEEEE####A',\n",
       " 'A6AAAEEE//E/EE#E//AEEEEEE#E#E/E/E####A',\n",
       " 'AAAAAEEEEEEEEE#EEEEEEEEEE#E#EEAEE####E']"
      ]
     },
     "execution_count": 3,
     "metadata": {},
     "output_type": "execute_result"
    }
   ],
   "source": [
    "import numpy as np\n",
    "scores = np.zeros((39, 12), dtype = float)\n",
    "\n",
    "def get_lines():\n",
    "    qualityLinesList = []\n",
    "    with open (\"../Data/Brev/shortR4.fastq.gz\") as fh:\n",
    "        NR = 0\n",
    "        for line in fh:\n",
    "            line = line.strip(\"\\n\")\n",
    "            NR += 1\n",
    "            if NR % 4 == 0:  #every 4th line starting at 0\n",
    "                qualityLinesList.append(line)\n",
    "    return qualityLinesList\n",
    "\n",
    "def convert_phred(letter):\n",
    "    return (ord(letter)-33)\n",
    "\n",
    "\n",
    "lines = get_lines()\n",
    "c = 0\n",
    "i = 0\n",
    "\n",
    "for c in range(38):\n",
    "    i = 0\n",
    "    for line in lines:\n",
    "        scores[c][i] = convert_phred(line[c])  #convert cth char on quality line and add to qualityList\n",
    "        i+=1\n",
    "    c+=1\n",
    "    \n",
    "lines"
   ]
  },
  {
   "cell_type": "markdown",
   "metadata": {},
   "source": [
    "### Print stats"
   ]
  },
  {
   "cell_type": "code",
   "execution_count": 4,
   "metadata": {},
   "outputs": [
    {
     "name": "stdout",
     "output_type": "stream",
     "text": [
      "BP Position \t Mean Score \t\t Variance \t\t StDev \t\t\t Median\n",
      "0 \t\t 25.1666666667 \t\t 150.972222222 \t\t 12.2870754137 \t\t 32.0\n",
      "1 \t\t 24.25 \t\t 147.6875 \t\t 12.1526746027 \t\t 32.0\n",
      "2 \t\t 25.1666666667 \t\t 150.972222222 \t\t 12.2870754137 \t\t 32.0\n",
      "3 \t\t 25.1666666667 \t\t 150.972222222 \t\t 12.2870754137 \t\t 32.0\n",
      "4 \t\t 26.6666666667 \t\t 142.222222222 \t\t 11.92569588 \t\t 32.0\n",
      "5 \t\t 27.8333333333 \t\t 190.972222222 \t\t 13.8192699598 \t\t 36.0\n",
      "6 \t\t 26.9166666667 \t\t 192.576388889 \t\t 13.8771895169 \t\t 36.0\n",
      "7 \t\t 26.0 \t\t 198.0 \t\t 14.0712472795 \t\t 36.0\n",
      "8 \t\t 22.6666666667 \t\t 199.555555556 \t\t 14.1264134003 \t\t 25.0\n",
      "9 \t\t 26.0 \t\t 198.0 \t\t 14.0712472795 \t\t 36.0\n",
      "10 \t\t 27.8333333333 \t\t 190.972222222 \t\t 13.8192699598 \t\t 36.0\n",
      "11 \t\t 25.25 \t\t 189.1875 \t\t 13.7545447035 \t\t 34.0\n",
      "12 \t\t 26.5833333333 \t\t 187.743055556 \t\t 13.7019361973 \t\t 36.0\n",
      "13 \t\t 27.5 \t\t 186.75 \t\t 13.6656503687 \t\t 36.0\n",
      "14 \t\t 1.66666666667 \t\t 0.555555555556 \t\t 0.7453559925 \t\t 2.0\n",
      "15 \t\t 27.8333333333 \t\t 190.972222222 \t\t 13.8192699598 \t\t 36.0\n",
      "16 \t\t 22.6666666667 \t\t 199.555555556 \t\t 14.1264134003 \t\t 25.0\n",
      "17 \t\t 25.3333333333 \t\t 186.888888889 \t\t 13.6707311029 \t\t 32.0\n",
      "18 \t\t 27.5 \t\t 186.75 \t\t 13.6656503687 \t\t 36.0\n",
      "19 \t\t 27.8333333333 \t\t 190.972222222 \t\t 13.8192699598 \t\t 36.0\n",
      "20 \t\t 28.1666666667 \t\t 194.972222222 \t\t 13.9632454044 \t\t 36.0\n",
      "21 \t\t 27.8333333333 \t\t 190.972222222 \t\t 13.8192699598 \t\t 36.0\n",
      "22 \t\t 28.1666666667 \t\t 194.972222222 \t\t 13.9632454044 \t\t 36.0\n",
      "23 \t\t 26.3333333333 \t\t 203.222222222 \t\t 14.2556031869 \t\t 36.0\n",
      "24 \t\t 27.8333333333 \t\t 190.972222222 \t\t 13.8192699598 \t\t 36.0\n",
      "25 \t\t 1.66666666667 \t\t 0.555555555556 \t\t 0.7453559925 \t\t 2.0\n",
      "26 \t\t 26.3333333333 \t\t 203.222222222 \t\t 14.2556031869 \t\t 36.0\n",
      "27 \t\t 1.66666666667 \t\t 0.555555555556 \t\t 0.7453559925 \t\t 2.0\n",
      "28 \t\t 27.8333333333 \t\t 190.972222222 \t\t 13.8192699598 \t\t 36.0\n",
      "29 \t\t 28.1666666667 \t\t 194.972222222 \t\t 13.9632454044 \t\t 36.0\n",
      "30 \t\t 27.5 \t\t 186.75 \t\t 13.6656503687 \t\t 36.0\n",
      "31 \t\t 24.5 \t\t 204.75 \t\t 14.3090880213 \t\t 36.0\n",
      "32 \t\t 25.0833333333 \t\t 196.243055556 \t\t 14.0086778661 \t\t 36.0\n",
      "33 \t\t 1.66666666667 \t\t 0.555555555556 \t\t 0.7453559925 \t\t 2.0\n",
      "34 \t\t 1.66666666667 \t\t 0.555555555556 \t\t 0.7453559925 \t\t 2.0\n",
      "35 \t\t 1.66666666667 \t\t 0.555555555556 \t\t 0.7453559925 \t\t 2.0\n",
      "36 \t\t 1.66666666667 \t\t 0.555555555556 \t\t 0.7453559925 \t\t 2.0\n",
      "37 \t\t 27.1666666667 \t\t 182.305555556 \t\t 13.5020574564 \t\t 34.0\n",
      "38 \t\t 0.0 \t\t 0.0 \t\t 0.0 \t\t 0.0\n"
     ]
    }
   ],
   "source": [
    "for pos in range(39):\n",
    "    means = scores[pos].mean()\n",
    "\n",
    "print(\"BP Position\", \"\\t\", \"Mean Score\", \"\\t\\t\", \"Variance\", \"\\t\\t\", \"StDev\", \"\\t\\t\\t\", \"Median\")\n",
    "for pos in range(39):\n",
    "    print(pos, \"\\t\\t\", scores[pos].mean(), \"\\t\\t\", scores[pos].var(), \"\\t\\t\", scores[pos].std(), \"\\t\\t\", np.median(scores[pos]))\n",
    "    "
   ]
  },
  {
   "cell_type": "markdown",
   "metadata": {},
   "source": [
    "### Plot"
   ]
  },
  {
   "cell_type": "code",
   "execution_count": 6,
   "metadata": {},
   "outputs": [],
   "source": [
    "means = []\n",
    "variances = []\n",
    "stdevs = []\n",
    "medians = []\n",
    "\n",
    "for pos in range(39):\n",
    "    means.append(scores[pos].mean())\n",
    "    variances.append(scores[pos].var())\n",
    "    stdevs.append(scores[pos].std())\n",
    "    medians.append(np.median(scores[pos]))"
   ]
  },
  {
   "cell_type": "code",
   "execution_count": 7,
   "metadata": {},
   "outputs": [
    {
     "data": {
      "image/png": "[encoded data removed]",
      "text/plain": [
       "<matplotlib.figure.Figure at 0x10e1e0dd8>"
      ]
     },
     "metadata": {},
     "output_type": "display_data"
    },
    {
     "data": {
      "image/png": "[encoded data removed]",
      "text/plain": [
       "<matplotlib.figure.Figure at 0x10ead9908>"
      ]
     },
     "metadata": {},
     "output_type": "display_data"
    },
    {
     "data": {
      "image/png": "[encoded data removed]",
      "text/plain": [
       "<matplotlib.figure.Figure at 0x10ed88cf8>"
      ]
     },
     "metadata": {},
     "output_type": "display_data"
    },
    {
     "data": {
      "image/png": "[encoded data removed]",
      "text/plain": [
       "<matplotlib.figure.Figure at 0x10effcf28>"
      ]
     },
     "metadata": {},
     "output_type": "display_data"
    }
   ],
   "source": [
    "% matplotlib inline\n",
    "import matplotlib.pyplot as plt\n",
    "\n",
    "x = range(39)\n",
    "plt.xlabel(\"Position in Sequence\")\n",
    "y = means\n",
    "plt.ylabel(\"Mean Quality Scores\")\n",
    "plt.scatter(x, y, marker = \".\")\n",
    "plt.show()\n",
    "\n",
    "x = range(39)\n",
    "plt.xlabel(\"Position in Sequence\")\n",
    "y = variances\n",
    "plt.ylabel(\"Variance of Quality Scores\")\n",
    "plt.scatter(x, y, marker = \".\")\n",
    "plt.show()\n",
    "\n",
    "x = range(39)\n",
    "plt.xlabel(\"Position in Sequence\")\n",
    "y = stdevs\n",
    "plt.ylabel(\"Standard Deviations of Quality Scores\")\n",
    "plt.scatter(x, y, marker = \".\")\n",
    "plt.show()\n",
    "\n",
    "x = range(39)\n",
    "plt.xlabel(\"Position in Sequence\")\n",
    "y = medians\n",
    "plt.ylabel(\"Medians of Quality Scores\")\n",
    "plt.scatter(x, y, marker = \".\")\n",
    "plt.show()"
   ]
  },
  {
   "cell_type": "markdown",
   "metadata": {},
   "source": [
    "## Quality filter based on index reads"
   ]
  },
  {
   "cell_type": "markdown",
   "metadata": {},
   "source": [
    "### Create index counts dictionary"
   ]
  },
  {
   "cell_type": "code",
   "execution_count": 8,
   "metadata": {},
   "outputs": [
    {
     "data": {
      "text/plain": [
       "{'AACGCACC': 0,\n",
       " 'AGGTCCGA': 0,\n",
       " 'ATTGCATA': 0,\n",
       " 'CATGTATC': 0,\n",
       " 'CCGGTAAC': 0,\n",
       " 'CGAATGCG': 0,\n",
       " 'GAAATCTA': 0,\n",
       " 'GCGATAGC': 0,\n",
       " 'GGCGATCA': 0,\n",
       " 'TCAGTAGA': 0,\n",
       " 'TGGCGTAT': 0,\n",
       " 'TTGTCAGG': 0}"
      ]
     },
     "execution_count": 8,
     "metadata": {},
     "output_type": "execute_result"
    }
   ],
   "source": [
    "indexFile = []\n",
    "\n",
    "with open (\"../Data/Brev/index.tsv\") as fh:\n",
    "    for line in fh:\n",
    "        indexFile.append(line.split())\n",
    "\n",
    "# for item in indexFile:\n",
    "#     indexes.append(indexFile) \n",
    "\n",
    "indexCounts = {key:0 for key in [row[1] for row in indexFile]}\n",
    "\n",
    "indexCounts"
   ]
  },
  {
   "cell_type": "markdown",
   "metadata": {},
   "source": [
    "### Step through each file one line at a time "
   ]
  },
  {
   "cell_type": "code",
   "execution_count": 9,
   "metadata": {
    "scrolled": true
   },
   "outputs": [
    {
     "name": "stdout",
     "output_type": "stream",
     "text": [
      "@NS500451:204:HH7GHBGXY:1:11101:10281:1048 1:N:0:0\n",
      "CTGACNGACTGGAGAGCGCGGACTTTTNTCGGACGGGT\n",
      "+\n",
      "AAAAA#EEEEEEEEEEEEEEEEAEEEE#EEEEEEEEEE\n",
      "@NS500451:204:HH7GHBGXY:1:11101:12181:1048 1:N:0:0\n",
      "GTTTANTACAACTTTGAGAACACTTTTNAAGCATTCTC\n",
      "+\n",
      "AAAAA#EEEEEEEEEEEEEEEEEEEEE#EEEEAEEEEE\n",
      "@NS500451:204:HH7GHBGXY:1:11101:22520:1048 1:N:0:0\n",
      "CAGCTNATAACATTTGATCAGGGGCTTNTTTTAGATTG\n",
      "+\n",
      "AAAAA#EEEEEEEEEEEEEEEEEEEEE#EEEEAEEEEE\n",
      "@NS500451:204:HH7GHBGXY:1:11101:14518:1048 1:N:0:0\n",
      "CCCCTNTGGATCAGATTGCTGGAGGCCNCCTTGCTCCC\n",
      "+\n",
      "AAAAA#EEEEEEEEEEEEEEEEEEEEE#EEEEEEEEEE\n",
      "@NS500451:204:HH7GHBGXY:1:11101:3341:1048 1:N:0:0\n",
      "CACAGNATGATGGCAGGCATAAACGGCNTTTGCCATCT\n",
      "+\n",
      "AAAAA#EEEEEEEEEEEEEEEEEEEEE#EEEEEEEEE/\n",
      "@NS500451:204:HH7GHBGXY:1:11101:7398:1048 1:N:0:0\n",
      "CTCATNTGTCATTTTGCTGGTTTGCTTNTTTTTCTTCT\n",
      "+\n",
      "AAAAA#EEE/EAEEE6EEEEEEAEEEE#EEEEEEEEAE\n",
      "@NS500451:204:HH7GHBGXY:1:11101:22160:1048 1:N:0:0\n",
      "GATCGNAAGAGCACACGTCTGAACTCCNGTCACTGCCT\n",
      "+\n",
      "AAAAA#EEEEAAA<EEAEEEAEEEEE/#EEEEEEEEE/\n",
      "@NS500451:204:HH7GHBGXY:1:11101:2548:1048 1:N:0:0\n",
      "CTTTANACTTCAAGCTATAGCTTGCTTNTGTTACTTGA\n",
      "+\n",
      "AAAAA#EEEEEEEEEAEEEEEEEEEEE#EEEEEEEEEE\n",
      "@NS500451:204:HH7GHBGXY:1:11101:6584:1048 1:N:0:0\n",
      "CCGAGNTGTTATTATCGCTCAACTCCANCTTCCTCAGT\n",
      "+\n",
      "AAAAA#EAEEEEEEEAEEEEEAAE</E#/AEEEEEEEA\n",
      "@NS500451:204:HH7GHBGXY:1:11101:7951:1048 1:N:0:0\n",
      "CTCCTNATTGCGTTTCCGGGACAGACGNACACGCATGC\n",
      "+\n",
      "AAAAA#EEEEEEEEEEEEEEEEEEEEE#EEEEEEEEEE\n",
      "@NS500451:204:HH7GHBGXY:1:11101:10281:1048 2:N:0:0\n",
      "CATGTATC\n",
      "+\n",
      "AAAAAEEE\n",
      "@NS500451:204:HH7GHBGXY:1:11101:12181:1048 2:N:0:0\n",
      "AACGCACC\n",
      "+\n",
      "AAAAAEEE\n",
      "@NS500451:204:HH7GHBGXY:1:11101:22520:1048 2:N:0:0\n",
      "AACGCACC\n",
      "+\n",
      "AAAAAEEE\n",
      "@NS500451:204:HH7GHBGXY:1:11101:14518:1048 2:N:0:0\n",
      "AGGTCCGA\n",
      "+\n",
      "AAAAAEEE\n",
      "@NS500451:204:HH7GHBGXY:1:11101:3341:1048 2:N:0:0\n",
      "AGGTCCGA\n",
      "+\n",
      "AAAAAEEE\n",
      "@NS500451:204:HH7GHBGXY:1:11101:7398:1048 2:N:0:0\n",
      "TCAGTAGA\n",
      "+\n",
      "AAAAAEEE\n",
      "@NS500451:204:HH7GHBGXY:1:11101:22160:1048 2:N:0:0\n",
      "CCGGTAAC\n",
      "+\n",
      "AAAAAE6E\n",
      "@NS500451:204:HH7GHBGXY:1:11101:2548:1048 2:N:0:0\n",
      "TTGTCAGG\n",
      "+\n",
      "AAAAAEEE\n",
      "@NS500451:204:HH7GHBGXY:1:11101:6584:1048 2:N:0:0\n",
      "TCAGTAGA\n",
      "+\n",
      "6AAAAEEA\n",
      "@NS500451:204:HH7GHBGXY:1:11101:7951:1048 2:N:0:0\n",
      "AACGCACC\n",
      "+\n",
      "AAAAAEEE\n",
      "@NS500451:204:HH7GHBGXY:1:11101:10281:1048 3:N:0:0\n",
      "NATGTATC\n",
      "+\n",
      "#AAAAEEE\n",
      "@NS500451:204:HH7GHBGXY:1:11101:12181:1048 3:N:0:0\n",
      "NACGCACC\n",
      "+\n",
      "#AAAAEEE\n",
      "@NS500451:204:HH7GHBGXY:1:11101:22520:1048 3:N:0:0\n",
      "NACGCACC\n",
      "+\n",
      "#AAAAEEE\n",
      "@NS500451:204:HH7GHBGXY:1:11101:14518:1048 3:N:0:0\n",
      "NGGTCCGA\n",
      "+\n",
      "#AAAAEEE\n",
      "@NS500451:204:HH7GHBGXY:1:11101:3341:1048 3:N:0:0\n",
      "NGGTCCGA\n",
      "+\n",
      "#AAAAEAE\n",
      "@NS500451:204:HH7GHBGXY:1:11101:7398:1048 3:N:0:0\n",
      "NCAGTAGA\n",
      "+\n",
      "#AA6AEEA\n",
      "@NS500451:204:HH7GHBGXY:1:11101:22160:1048 3:N:0:0\n",
      "NCGGTAAC\n",
      "+\n",
      "#AAAAEAA\n",
      "@NS500451:204:HH7GHBGXY:1:11101:2548:1048 3:N:0:0\n",
      "NTGTCAGG\n",
      "+\n",
      "#AAAAEEE\n",
      "@NS500451:204:HH7GHBGXY:1:11101:6584:1048 3:N:0:0\n",
      "NCAGTAGA\n",
      "+\n",
      "#/AA/EAE\n",
      "@NS500451:204:HH7GHBGXY:1:11101:7951:1048 3:N:0:0\n",
      "NACGCACC\n",
      "+\n",
      "#AAAAEEE\n",
      "@NS500451:204:HH7GHBGXY:1:11101:10281:1048 4:N:0:0\n",
      "AAACAGACCGACGGNCGCGAAGTGGNGNCCGCANNNNA\n",
      "+\n",
      "AAAAAEEEEEEEEE#EEEEEEEEEE#E#EEEEE####E\n",
      "@NS500451:204:HH7GHBGXY:1:11101:12181:1048 4:N:0:0\n",
      "GTGATAAACCAGCANAGATAGTCTCNTNCAATGNNNNC\n",
      "+\n",
      "AAAAAEEEEEEAEE#E/EEEEEEEE#E#EEEE/####E\n",
      "@NS500451:204:HH7GHBGXY:1:11101:22520:1048 4:N:0:0\n",
      "GGAGAGGAAAATGGNGTCCCCTACTNGNTAGCTNNNNA\n",
      "+\n",
      "AAAAAEEEEEEEEA#EEAEEEEEEE#/#EEAEE####E\n",
      "@NS500451:204:HH7GHBGXY:1:11101:14518:1048 4:N:0:0\n",
      "GTTCATCTGAGCAGNGGCTGTTTGGNANGTGCCNNNNC\n",
      "+\n",
      "AAAAAEEEEAEEEA#EEEEEEEEEE#E#EEE//####E\n",
      "@NS500451:204:HH7GHBGXY:1:11101:3341:1048 4:N:0:0\n",
      "CAATTTGTAGACATNCTGTTGCGCANTNCGCGTNNNNG\n",
      "+\n",
      "AAAAAE6//EAEAE#EEAEEEEEEA#/#EEEEE####E\n",
      "@NS500451:204:HH7GHBGXY:1:11101:7398:1048 4:N:0:0\n",
      "TGACCGTGGGTCACNAGGCGGTTATNTNGTCCANNNNC\n",
      "+\n",
      "AAAAAAEA/EE<6E#A/AA/EAE/E#E#EEEEE####A\n",
      "@NS500451:204:HH7GHBGXY:1:11101:22160:1048 4:N:0:0\n",
      "GGGGGGCAGGTCGGNACAAGCGGAGNANAATTANNNNA\n",
      "+\n",
      "////A/////////#////A/////#E#/E//6####/\n",
      "@NS500451:204:HH7GHBGXY:1:11101:2548:1048 4:N:0:0\n",
      "GGACCCCATGCCTANGATTTTCAGGNTNACTCANNNNA\n",
      "+\n",
      "AAAAAEEEEEEEEE#EEEEEEEEEE#E#AEEEE####A\n",
      "@NS500451:204:HH7GHBGXY:1:11101:6584:1048 4:N:0:0\n",
      "GGATAACTGTCGCTNCAGTGATGGGNANATTGANNNNC\n",
      "+\n",
      "A6AAAEEE//E/EE#E//AEEEEEE#E#E/E/E####A\n",
      "@NS500451:204:HH7GHBGXY:1:11101:7951:1048 4:N:0:0\n",
      "GATGGGCACTCCTGNTGTCCGCATCNANACACGNNNNA\n",
      "+\n",
      "AAAAAEEEEEEEEE#EEEEEEEEEE#E#EEAEE####E\n"
     ]
    }
   ],
   "source": [
    "def fileinput(files):\n",
    "    for f in files:\n",
    "        with open(f,'r') as fin:\n",
    "            for line in fin:\n",
    "                yield line.strip()\n",
    "                                \n",
    "                \n",
    "NR = 0\n",
    "for line in fileinput([\"../Data/Brev/shortR1.fastq.gz\", \"../Data/Brev/shortR2.fastq.gz\", \"../Data/Brev/shortR3.fastq.gz\", \"../Data/Brev/shortR4.fastq.gz\"]):\n",
    "#         NR += 1\n",
    "#         if NR % 4 == 2:  #every 4th line starting at 0\n",
    "        print(line)"
   ]
  },
  {
   "cell_type": "code",
   "execution_count": 10,
   "metadata": {},
   "outputs": [
    {
     "name": "stdout",
     "output_type": "stream",
     "text": [
      "CTGACNGACTGGAGAGCGCGGACTTTTNTCGGACGGGT\n",
      "GTTTANTACAACTTTGAGAACACTTTTNAAGCATTCTC\n",
      "CAGCTNATAACATTTGATCAGGGGCTTNTTTTAGATTG\n",
      "CCCCTNTGGATCAGATTGCTGGAGGCCNCCTTGCTCCC\n",
      "CACAGNATGATGGCAGGCATAAACGGCNTTTGCCATCT\n",
      "CTCATNTGTCATTTTGCTGGTTTGCTTNTTTTTCTTCT\n",
      "GATCGNAAGAGCACACGTCTGAACTCCNGTCACTGCCT\n",
      "CTTTANACTTCAAGCTATAGCTTGCTTNTGTTACTTGA\n",
      "CCGAGNTGTTATTATCGCTCAACTCCANCTTCCTCAGT\n",
      "CTCCTNATTGCGTTTCCGGGACAGACGNACACGCATGC\n"
     ]
    }
   ],
   "source": [
    "def fileinput(files):\n",
    "    for f in files:\n",
    "        with open(f,'r') as fin:\n",
    "            for line in fin:\n",
    "                yield line.strip()\n",
    "                                \n",
    "                \n",
    "NR = 0\n",
    "for line in fileinput([\"../Data/Brev/shortR1.fastq.gz\"]):\n",
    "        NR += 1\n",
    "        if NR % 4 == 2:  #every 4th line starting at 0\n",
    "            print(line)"
   ]
  },
  {
   "cell_type": "markdown",
   "metadata": {},
   "source": [
    "### Count occurences of indexes"
   ]
  },
  {
   "cell_type": "code",
   "execution_count": 11,
   "metadata": {},
   "outputs": [
    {
     "name": "stdout",
     "output_type": "stream",
     "text": [
      "@NS500451:204:HH7GHBGXY:1:11101:10281:1048 ('CATGTATC', 'NATGTATC')\n",
      "@NS500451:204:HH7GHBGXY:1:11101:12181:1048 ('AACGCACC', 'NACGCACC')\n",
      "@NS500451:204:HH7GHBGXY:1:11101:22520:1048 ('AACGCACC', 'NACGCACC')\n",
      "@NS500451:204:HH7GHBGXY:1:11101:14518:1048 ('AGGTCCGA', 'NGGTCCGA')\n",
      "@NS500451:204:HH7GHBGXY:1:11101:3341:1048 ('AGGTCCGA', 'NGGTCCGA')\n",
      "@NS500451:204:HH7GHBGXY:1:11101:7398:1048 ('TCAGTAGA', 'NCAGTAGA')\n",
      "@NS500451:204:HH7GHBGXY:1:11101:22160:1048 ('CCGGTAAC', 'NCGGTAAC')\n",
      "@NS500451:204:HH7GHBGXY:1:11101:2548:1048 ('TTGTCAGG', 'NTGTCAGG')\n",
      "@NS500451:204:HH7GHBGXY:1:11101:6584:1048 ('TCAGTAGA', 'NCAGTAGA')\n",
      "@NS500451:204:HH7GHBGXY:1:11101:7951:1048 ('AACGCACC', 'NACGCACC')\n"
     ]
    }
   ],
   "source": [
    "ID = []\n",
    "NR = 0\n",
    "with open (\"../Data/Brev/shortR1.fastq.gz\") as fh:\n",
    "    for line in fh:\n",
    "        NR += 1\n",
    "        if NR % 4 == 1:  #every 4th line starting at 0\n",
    "            ID.append(line.split())\n",
    "        \n",
    "indexOne = []\n",
    "NR = 0\n",
    "with open (\"../Data/Brev/shortR2.fastq.gz\") as fh:\n",
    "    for line in fh:\n",
    "        NR += 1\n",
    "        if NR % 4 == 2:  #every 4th line starting at 0\n",
    "            indexOne.append(line.split())\n",
    "        \n",
    "indexTwo = []\n",
    "NR = 0\n",
    "with open (\"../Data/Brev/shortR3.fastq.gz\") as fh:\n",
    "    for line in fh:\n",
    "        NR += 1\n",
    "        if NR % 4 == 2:  #every 4th line starting at 0\n",
    "            indexTwo.append(line.split())\n",
    "            \n",
    "\n",
    "# for ID, two, three, four in zip(ID, indexOne, indexTwo, fourFile):\n",
    "#     print('{} {} {} {}'.format(ID, two, three, four))\n",
    "    \n",
    "fileIndexes = {}  # key is ID, value is index pair\n",
    "for ID, two, three in zip(ID, indexOne, indexTwo):\n",
    "    fileIndexes.update({(ID[0]):(two[0], three[0])})\n",
    "    \n",
    "for key in fileIndexes:\n",
    "    print(key, fileIndexes[key])\n",
    "    \n",
    "for key in indexCounts:\n",
    "    for ID in fileIndexes:\n",
    "        if fileIndexes[ID][0] == key or fileIndexes[ID][1] == key:\n",
    "            indexCounts[key] = indexCounts[key] + 1\n",
    "    \n",
    "# for key in indexCounts:\n",
    "#     print(key, indexCounts[key])"
   ]
  },
  {
   "cell_type": "markdown",
   "metadata": {},
   "source": [
    "### Filter by quality score of indices"
   ]
  },
  {
   "cell_type": "markdown",
   "metadata": {},
   "source": [
    "use dict with ID, indices\n",
    "check quality\n",
    "save good ones in to a list \n",
    "use this as an index of IDs to keep\n",
    "retrieve records on ID (as key, rel db) "
   ]
  },
  {
   "cell_type": "code",
   "execution_count": 12,
   "metadata": {},
   "outputs": [
    {
     "name": "stdout",
     "output_type": "stream",
     "text": [
      "10\n",
      "@NS500451:204:HH7GHBGXY:1:11101:10281:1048\n",
      "@NS500451:204:HH7GHBGXY:1:11101:12181:1048\n",
      "@NS500451:204:HH7GHBGXY:1:11101:22520:1048\n",
      "@NS500451:204:HH7GHBGXY:1:11101:14518:1048\n",
      "@NS500451:204:HH7GHBGXY:1:11101:3341:1048\n",
      "@NS500451:204:HH7GHBGXY:1:11101:7398:1048\n",
      "@NS500451:204:HH7GHBGXY:1:11101:22160:1048\n",
      "@NS500451:204:HH7GHBGXY:1:11101:2548:1048\n",
      "@NS500451:204:HH7GHBGXY:1:11101:6584:1048\n",
      "@NS500451:204:HH7GHBGXY:1:11101:7951:1048\n"
     ]
    }
   ],
   "source": [
    "minScore = 39\n",
    "keep = True\n",
    "\n",
    "def convert_phred(letter):\n",
    "    return (ord(letter)-33)\n",
    "\n",
    "conservedID = []  # if all ntds in both indexes are >= min score, save ID in this list\n",
    "for key in fileIndexes:\n",
    "    if keep == True:\n",
    "        for letter in fileIndexes[key][0]:\n",
    "            if convert_phred(letter) >= minScore:\n",
    "                keep = True\n",
    "            else: \n",
    "                break\n",
    "                print (\"here\")\n",
    "        \n",
    "        keep1 = True\n",
    "        if keep1 == True:\n",
    "            for letter in fileIndexes[key][1]:\n",
    "                if convert_phred(letter) >= minScore:\n",
    "                    keep1 = True\n",
    "                else: \n",
    "                    break\n",
    "                    print (\"here11\")\n",
    "\n",
    "            conservedID.append(key)\n",
    "\n",
    "print(len(conservedID))\n",
    "for item in conservedID:\n",
    "    print(item)"
   ]
  },
  {
   "cell_type": "code",
   "execution_count": 188,
   "metadata": {},
   "outputs": [
    {
     "name": "stdout",
     "output_type": "stream",
     "text": [
      "10\n",
      "@NS500451:204:HH7GHBGXY:1:11101:10281:1048\n",
      "@NS500451:204:HH7GHBGXY:1:11101:12181:1048\n",
      "@NS500451:204:HH7GHBGXY:1:11101:22520:1048\n",
      "@NS500451:204:HH7GHBGXY:1:11101:14518:1048\n",
      "@NS500451:204:HH7GHBGXY:1:11101:3341:1048\n",
      "@NS500451:204:HH7GHBGXY:1:11101:7398:1048\n",
      "@NS500451:204:HH7GHBGXY:1:11101:22160:1048\n",
      "@NS500451:204:HH7GHBGXY:1:11101:2548:1048\n",
      "@NS500451:204:HH7GHBGXY:1:11101:6584:1048\n",
      "@NS500451:204:HH7GHBGXY:1:11101:7951:1048\n"
     ]
    }
   ],
   "source": [
    "minScore = 3\n",
    "\n",
    "def convert_phred(letter):\n",
    "    return (ord(letter)-33)\n",
    "\n",
    "conservedID = []  # if all ntds in both indexes are >= min score, save ID in this list\n",
    "conserveID.append()\n",
    "\n",
    "\n",
    "for key in fileIndexes:\n",
    "    for letter in fileIndexes[key][0]:\n",
    "        if convert_phred(letter) == (minScore - 1):\n",
    "            break\n",
    "        for letter in fileIndexes[key][1]:\n",
    "            if convert_phred(letter) == (minScore - 1):\n",
    "                break\n",
    "        conservedID.append(key)\n",
    "\n",
    "print(len(conservedID))\n",
    "for item in conservedID:\n",
    "    print(item)"
   ]
  },
  {
   "cell_type": "markdown",
   "metadata": {},
   "source": [
    "### "
   ]
  },
  {
   "cell_type": "raw",
   "metadata": {},
   "source": [
    "@NS500451:204:HH7GHBGXY:1:11101:10281:1048\n",
    "1: AACGCACC\n",
    "2: NATGTATC\n",
    "\n",
    "CTGACNGACTGGAGAGCGCGGACTTTTNTCGGACGGGT\n",
    "AAACAGACCGACGGNCGCGAAGTGGNGNCCGCANNNNA"
   ]
  }
 ],
 "metadata": {
  "kernelspec": {
   "display_name": "Python 3",
   "language": "python",
   "name": "python3"
  },
  "language_info": {
   "codemirror_mode": {
    "name": "ipython",
    "version": 3
   },
   "file_extension": ".py",
   "mimetype": "text/x-python",
   "name": "python",
   "nbconvert_exporter": "python",
   "pygments_lexer": "ipython3",
   "version": "3.6.1"
  },
  "toc": {
   "colors": {
    "hover_highlight": "#DAA520",
    "navigate_num": "#000000",
    "navigate_text": "#333333",
    "running_highlight": "#FF0000",
    "selected_highlight": "#FFD700",
    "sidebar_border": "#EEEEEE",
    "wrapper_background": "#FFFFFF"
   },
   "moveMenuLeft": true,
   "nav_menu": {
    "height": "30px",
    "width": "252px"
   },
   "navigate_menu": true,
   "number_sections": true,
   "sideBar": true,
   "threshold": "3",
   "toc_cell": false,
   "toc_section_display": "block",
   "toc_window_display": false,
   "widenNotebook": false
  }
 },
 "nbformat": 4,
 "nbformat_minor": 2
}
